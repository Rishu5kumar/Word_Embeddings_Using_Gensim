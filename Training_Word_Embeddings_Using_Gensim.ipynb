{
  "nbformat": 4,
  "nbformat_minor": 0,
  "metadata": {
    "colab": {
      "provenance": [],
      "authorship_tag": "ABX9TyP7DsgOLHyVhHG7cJz6G5tf",
      "include_colab_link": true
    },
    "kernelspec": {
      "name": "python3",
      "display_name": "Python 3"
    },
    "language_info": {
      "name": "python"
    }
  },
  "cells": [
    {
      "cell_type": "markdown",
      "metadata": {
        "id": "view-in-github",
        "colab_type": "text"
      },
      "source": [
        "<a href=\"https://colab.research.google.com/github/Rishu5kumar/Word_Embeddings_Using_Gensim/blob/main/Training_Word_Embeddings_Using_Gensim.ipynb\" target=\"_parent\"><img src=\"https://colab.research.google.com/assets/colab-badge.svg\" alt=\"Open In Colab\"/></a>"
      ]
    },
    {
      "cell_type": "code",
      "execution_count": null,
      "metadata": {
        "colab": {
          "base_uri": "https://localhost:8080/"
        },
        "id": "0M_lvOWHXiQ-",
        "outputId": "270cd56d-1a96-4a0c-d04b-0fefa12fe03e"
      },
      "outputs": [
        {
          "output_type": "stream",
          "name": "stderr",
          "text": [
            "[nltk_data] Downloading package punkt to /root/nltk_data...\n",
            "[nltk_data]   Package punkt is already up-to-date!\n",
            "[nltk_data] Downloading package stopwords to /root/nltk_data...\n",
            "[nltk_data]   Unzipping corpora/stopwords.zip.\n"
          ]
        }
      ],
      "source": [
        "import nltk\n",
        "nltk.download('punkt')\n",
        "nltk.download('stopwords')\n",
        "\n",
        "from gensim.models import Word2Vec # it creates a 100 dimensions vector for each word\n",
        "from nltk.corpus import stopwords\n",
        "\n",
        "import re"
      ]
    },
    {
      "cell_type": "code",
      "source": [
        "paragraph = \"\"\"I have three visions for India. In 3000 years of our history, people from all over\n",
        "               the world have come and invaded us, captured our lands, conquered our minds.\n",
        "               From Alexander onwards, the Greeks, the Turks, the Moguls, the Portuguese, the British,\n",
        "               the French, the Dutch, all of them came and looted us, took over what was ours.\n",
        "               Yet we have not done this to any other nation. We have not conquered anyone.\n",
        "               We have not grabbed their land, their culture,\n",
        "               their history and tried to enforce our way of life on them.\n",
        "               Why? Because we respect the freedom of others.That is why my\n",
        "               first vision is that of freedom. I believe that India got its first vision of\n",
        "               this in 1857, when we started the War of Independence. It is this freedom that\n",
        "               we must protect and nurture and build on. If we are not free, no one will respect us.\n",
        "               My second vision for India’s development. For fifty years we have been a developing nation.\n",
        "               It is time we see ourselves as a developed nation. We are among the top 5 nations of the world\n",
        "               in terms of GDP. We have a 10 percent growth rate in most areas. Our poverty levels are falling.\n",
        "               Our achievements are being globally recognised today. Yet we lack the self-confidence to\n",
        "               see ourselves as a developed nation, self-reliant and self-assured. Isn’t this incorrect?\n",
        "               I have a third vision. India must stand up to the world. Because I believe that unless India\n",
        "               stands up to the world, no one will respect us. Only strength respects strength. We must be\n",
        "               strong not only as a military power but also as an economic power. Both must go hand-in-hand.\n",
        "               My good fortune was to have worked with three great minds. Dr. Vikram Sarabhai of the Dept. of\n",
        "               space, Professor Satish Dhawan, who succeeded him and Dr. Brahm Prakash, father of nuclear material.\n",
        "               I was lucky to have worked with all three of them closely and consider this the great opportunity of my life.\n",
        "               I see four milestones in my career\"\"\""
      ],
      "metadata": {
        "id": "_VdcSmijXtNE"
      },
      "execution_count": null,
      "outputs": []
    },
    {
      "cell_type": "code",
      "source": [
        "# Preprocessing the data\n",
        "text = re.sub(r'\\[[0-9]*\\]',' ',paragraph) # Removes any references or numbers in square brackets (e.g., [1], [2]).\n",
        "text = re.sub(r'\\s+',' ',text) # Replaces multiple spaces with a single space.\n",
        "text = text.lower()\n",
        "text = re.sub(r'\\d',' ',text) # Removes digits (numbers).\n",
        "text = re.sub(r'\\s+',' ',text) # Again replaces any extra spaces with a single space."
      ],
      "metadata": {
        "id": "cWJrSV8xYu0R"
      },
      "execution_count": null,
      "outputs": []
    },
    {
      "cell_type": "code",
      "source": [
        "print(text)"
      ],
      "metadata": {
        "colab": {
          "base_uri": "https://localhost:8080/"
        },
        "id": "wnXYe_E6aI9x",
        "outputId": "a9c3fcef-f959-47f9-cf78-a88fa45a12fb"
      },
      "execution_count": null,
      "outputs": [
        {
          "output_type": "stream",
          "name": "stdout",
          "text": [
            "i have three visions for india. in years of our history, people from all over the world have come and invaded us, captured our lands, conquered our minds. from alexander onwards, the greeks, the turks, the moguls, the portuguese, the british, the french, the dutch, all of them came and looted us, took over what was ours. yet we have not done this to any other nation. we have not conquered anyone. we have not grabbed their land, their culture, their history and tried to enforce our way of life on them. why? because we respect the freedom of others.that is why my first vision is that of freedom. i believe that india got its first vision of this in , when we started the war of independence. it is this freedom that we must protect and nurture and build on. if we are not free, no one will respect us. my second vision for india’s development. for fifty years we have been a developing nation. it is time we see ourselves as a developed nation. we are among the top nations of the world in terms of gdp. we have a percent growth rate in most areas. our poverty levels are falling. our achievements are being globally recognised today. yet we lack the self-confidence to see ourselves as a developed nation, self-reliant and self-assured. isn’t this incorrect? i have a third vision. india must stand up to the world. because i believe that unless india stands up to the world, no one will respect us. only strength respects strength. we must be strong not only as a military power but also as an economic power. both must go hand-in-hand. my good fortune was to have worked with three great minds. dr. vikram sarabhai of the dept. of space, professor satish dhawan, who succeeded him and dr. brahm prakash, father of nuclear material. i was lucky to have worked with all three of them closely and consider this the great opportunity of my life. i see four milestones in my career\n"
          ]
        }
      ]
    },
    {
      "cell_type": "code",
      "source": [
        "# Preparing the dataset\n",
        "sentences = nltk.sent_tokenize(text)\n",
        "\n",
        "sentences = [nltk.word_tokenize(sentence) for sentence in sentences]\n",
        "\n",
        "for i in range(len(sentences)):\n",
        "    sentences[i] = [word for word in sentences[i] if word not in stopwords.words('english')]\n",
        "\n",
        "print(sentences)"
      ],
      "metadata": {
        "colab": {
          "base_uri": "https://localhost:8080/"
        },
        "id": "OE0jMSxPY0E9",
        "outputId": "eb526743-28ea-4764-edc3-b567ae8b3c9f"
      },
      "execution_count": null,
      "outputs": [
        {
          "output_type": "stream",
          "name": "stdout",
          "text": [
            "[['three', 'visions', 'india', '.'], ['years', 'history', ',', 'people', 'world', 'come', 'invaded', 'us', ',', 'captured', 'lands', ',', 'conquered', 'minds', '.'], ['alexander', 'onwards', ',', 'greeks', ',', 'turks', ',', 'moguls', ',', 'portuguese', ',', 'british', ',', 'french', ',', 'dutch', ',', 'came', 'looted', 'us', ',', 'took', '.'], ['yet', 'done', 'nation', '.'], ['conquered', 'anyone', '.'], ['grabbed', 'land', ',', 'culture', ',', 'history', 'tried', 'enforce', 'way', 'life', '.'], ['?'], ['respect', 'freedom', 'others.that', 'first', 'vision', 'freedom', '.'], ['believe', 'india', 'got', 'first', 'vision', ',', 'started', 'war', 'independence', '.'], ['freedom', 'must', 'protect', 'nurture', 'build', '.'], ['free', ',', 'one', 'respect', 'us', '.'], ['second', 'vision', 'india', '’', 'development', '.'], ['fifty', 'years', 'developing', 'nation', '.'], ['time', 'see', 'developed', 'nation', '.'], ['among', 'top', 'nations', 'world', 'terms', 'gdp', '.'], ['percent', 'growth', 'rate', 'areas', '.'], ['poverty', 'levels', 'falling', '.'], ['achievements', 'globally', 'recognised', 'today', '.'], ['yet', 'lack', 'self-confidence', 'see', 'developed', 'nation', ',', 'self-reliant', 'self-assured', '.'], ['’', 'incorrect', '?'], ['third', 'vision', '.'], ['india', 'must', 'stand', 'world', '.'], ['believe', 'unless', 'india', 'stands', 'world', ',', 'one', 'respect', 'us', '.'], ['strength', 'respects', 'strength', '.'], ['must', 'strong', 'military', 'power', 'also', 'economic', 'power', '.'], ['must', 'go', 'hand-in-hand', '.'], ['good', 'fortune', 'worked', 'three', 'great', 'minds', '.'], ['dr.', 'vikram', 'sarabhai', 'dept', '.'], ['space', ',', 'professor', 'satish', 'dhawan', ',', 'succeeded', 'dr.', 'brahm', 'prakash', ',', 'father', 'nuclear', 'material', '.'], ['lucky', 'worked', 'three', 'closely', 'consider', 'great', 'opportunity', 'life', '.'], ['see', 'four', 'milestones', 'career']]\n"
          ]
        }
      ]
    },
    {
      "cell_type": "code",
      "source": [
        "# Training the Word2Vec model\n",
        "model = Word2Vec(sentences, min_count=1) # Trains a Word2Vec model on the tokenized sentences, where min_count=1 ensures that words appearing once are included in the vocabulary.\n",
        "# if the word present less than 1 time, i am going to skip that word\n",
        "\n",
        "words = model.wv.key_to_index # Retrieves the vocabulary (words) from the trained model; it maps each word to its index in the model.\n",
        "\n",
        "# Finding Word Vectors\n",
        "vector = model.wv['war'] # Gets the vector representation of the word \"war\", which is a multi-dimensional array (word embedding) capturing its semantic meaning.\n",
        "\n",
        "# Most similar words\n",
        "similar = model.wv.most_similar('vikram') # Finds words that are semantically similar to \"vikram\" based on cosine similarity between their vectors.\n",
        "\n",
        "print(\"Vocabulary:\", words)\n",
        "print(\"Vector for 'war':\", vector)\n",
        "print(\"Most similar words to 'vikram':\", similar)"
      ],
      "metadata": {
        "colab": {
          "base_uri": "https://localhost:8080/"
        },
        "id": "ut_foQNqYshd",
        "outputId": "f2e16cfe-d17f-4c99-ce7e-29a14f75659c"
      },
      "execution_count": null,
      "outputs": [
        {
          "output_type": "stream",
          "name": "stdout",
          "text": [
            "Vocabulary: {'.': 0, ',': 1, 'india': 2, 'vision': 3, 'must': 4, 'nation': 5, 'world': 6, 'us': 7, 'three': 8, 'freedom': 9, 'respect': 10, 'see': 11, 'first': 12, 'power': 13, 'yet': 14, '’': 15, 'strength': 16, 'worked': 17, '?': 18, 'life': 19, 'believe': 20, 'dr.': 21, 'great': 22, 'minds': 23, 'one': 24, 'years': 25, 'history': 26, 'developed': 27, 'conquered': 28, 'protect': 29, 'others.that': 30, 'war': 31, 'nurture': 32, 'independence': 33, 'build': 34, 'free': 35, 'tried': 36, 'got': 37, 'started': 38, 'way': 39, 'enforce': 40, 'took': 41, 'culture': 42, 'turks': 43, 'visions': 44, 'people': 45, 'come': 46, 'invaded': 47, 'captured': 48, 'lands': 49, 'alexander': 50, 'onwards': 51, 'greeks': 52, 'moguls': 53, 'land': 54, 'portuguese': 55, 'british': 56, 'french': 57, 'dutch': 58, 'came': 59, 'looted': 60, 'done': 61, 'anyone': 62, 'grabbed': 63, 'second': 64, 'career': 65, 'development': 66, 'respects': 67, 'military': 68, 'also': 69, 'economic': 70, 'go': 71, 'hand-in-hand': 72, 'good': 73, 'fortune': 74, 'vikram': 75, 'sarabhai': 76, 'dept': 77, 'space': 78, 'professor': 79, 'satish': 80, 'dhawan': 81, 'succeeded': 82, 'brahm': 83, 'prakash': 84, 'father': 85, 'nuclear': 86, 'material': 87, 'lucky': 88, 'closely': 89, 'consider': 90, 'opportunity': 91, 'four': 92, 'strong': 93, 'stands': 94, 'fifty': 95, 'unless': 96, 'developing': 97, 'milestones': 98, 'among': 99, 'top': 100, 'nations': 101, 'terms': 102, 'gdp': 103, 'percent': 104, 'growth': 105, 'rate': 106, 'areas': 107, 'poverty': 108, 'levels': 109, 'falling': 110, 'achievements': 111, 'globally': 112, 'recognised': 113, 'today': 114, 'lack': 115, 'self-confidence': 116, 'self-reliant': 117, 'self-assured': 118, 'incorrect': 119, 'third': 120, 'stand': 121, 'time': 122}\n",
            "Vector for 'war': [-0.00219905 -0.00970885  0.00929075  0.00203636 -0.00116388 -0.00551955\n",
            " -0.0085126  -0.00989383  0.00894091 -0.00250522  0.00459427 -0.00452481\n",
            "  0.00995189  0.00366171  0.00103129 -0.00403834  0.00122027 -0.00265451\n",
            "  0.00735284  0.00447542  0.00099955  0.0034782   0.00372712 -0.00680036\n",
            "  0.00893243  0.00173499 -0.00579935  0.00866838 -0.00129286  0.00818304\n",
            " -0.0014927   0.00698649  0.00273452 -0.00436226 -0.00374683  0.00919046\n",
            "  0.00159645 -0.00599784  0.00034776 -0.00195135  0.00159242 -0.00771525\n",
            "  0.00738298  0.00131083  0.00787099  0.00445568 -0.00439675  0.00376054\n",
            " -0.0006357  -0.00984484  0.00825004  0.00964326  0.00965426 -0.00379659\n",
            " -0.00844202  0.00483581 -0.00765107  0.00853567  0.00275977  0.00560496\n",
            "  0.00611362  0.00046455 -0.00209463  0.000778    0.00983559 -0.00711718\n",
            " -0.00155743 -0.00235984  0.00487084  0.00645515 -0.0041403   0.00361816\n",
            " -0.00447258  0.00326611  0.0081738   0.00361967 -0.0045711  -0.00301938\n",
            "  0.00787179  0.00959686  0.00580789 -0.00326881 -0.00183876 -0.00624998\n",
            " -0.00429521  0.00336554 -0.00648911 -0.00661903  0.00811393  0.0095074\n",
            "  0.00814451  0.00150699 -0.00880124 -0.00759764  0.0015789  -0.00952675\n",
            " -0.00741688  0.00203283 -0.00292885 -0.00916266]\n",
            "Most similar words to 'vikram': [('visions', 0.1814650446176529), ('growth', 0.1663494110107422), ('one', 0.1643451601266861), ('took', 0.1643296480178833), (',', 0.15887506306171417), ('fifty', 0.1472669243812561), ('developing', 0.14714020490646362), ('worked', 0.13810549676418304), ('development', 0.13769842684268951), ('time', 0.13293513655662537)]\n"
          ]
        }
      ]
    },
    {
      "cell_type": "markdown",
      "source": [
        "BERT is contextually aware, considering the entire sentence, while traditional word embeddings, like Word2Vec, treat each word independently."
      ],
      "metadata": {
        "id": "7tMB13qla2BK"
      }
    }
  ]
}